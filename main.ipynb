{
 "cells": [
  {
   "cell_type": "code",
   "execution_count": 1,
   "id": "92c6d0f6",
   "metadata": {},
   "outputs": [
    {
     "data": {
      "text/html": [
       "<div>\n",
       "<style scoped>\n",
       "    .dataframe tbody tr th:only-of-type {\n",
       "        vertical-align: middle;\n",
       "    }\n",
       "\n",
       "    .dataframe tbody tr th {\n",
       "        vertical-align: top;\n",
       "    }\n",
       "\n",
       "    .dataframe thead th {\n",
       "        text-align: right;\n",
       "    }\n",
       "</style>\n",
       "<table border=\"1\" class=\"dataframe\">\n",
       "  <thead>\n",
       "    <tr style=\"text-align: right;\">\n",
       "      <th></th>\n",
       "      <th>id</th>\n",
       "      <th>qid1</th>\n",
       "      <th>qid2</th>\n",
       "      <th>question1</th>\n",
       "      <th>question2</th>\n",
       "      <th>is_duplicate</th>\n",
       "    </tr>\n",
       "  </thead>\n",
       "  <tbody>\n",
       "    <tr>\n",
       "      <th>0</th>\n",
       "      <td>0</td>\n",
       "      <td>1</td>\n",
       "      <td>2</td>\n",
       "      <td>What is the step by step guide to invest in sh...</td>\n",
       "      <td>What is the step by step guide to invest in sh...</td>\n",
       "      <td>0</td>\n",
       "    </tr>\n",
       "    <tr>\n",
       "      <th>1</th>\n",
       "      <td>1</td>\n",
       "      <td>3</td>\n",
       "      <td>4</td>\n",
       "      <td>What is the story of Kohinoor (Koh-i-Noor) Dia...</td>\n",
       "      <td>What would happen if the Indian government sto...</td>\n",
       "      <td>0</td>\n",
       "    </tr>\n",
       "    <tr>\n",
       "      <th>2</th>\n",
       "      <td>2</td>\n",
       "      <td>5</td>\n",
       "      <td>6</td>\n",
       "      <td>How can I increase the speed of my internet co...</td>\n",
       "      <td>How can Internet speed be increased by hacking...</td>\n",
       "      <td>0</td>\n",
       "    </tr>\n",
       "    <tr>\n",
       "      <th>3</th>\n",
       "      <td>3</td>\n",
       "      <td>7</td>\n",
       "      <td>8</td>\n",
       "      <td>Why am I mentally very lonely? How can I solve...</td>\n",
       "      <td>Find the remainder when [math]23^{24}[/math] i...</td>\n",
       "      <td>0</td>\n",
       "    </tr>\n",
       "    <tr>\n",
       "      <th>4</th>\n",
       "      <td>4</td>\n",
       "      <td>9</td>\n",
       "      <td>10</td>\n",
       "      <td>Which one dissolve in water quikly sugar, salt...</td>\n",
       "      <td>Which fish would survive in salt water?</td>\n",
       "      <td>0</td>\n",
       "    </tr>\n",
       "  </tbody>\n",
       "</table>\n",
       "</div>"
      ],
      "text/plain": [
       "   id  qid1  qid2                                          question1  \\\n",
       "0   0     1     2  What is the step by step guide to invest in sh...   \n",
       "1   1     3     4  What is the story of Kohinoor (Koh-i-Noor) Dia...   \n",
       "2   2     5     6  How can I increase the speed of my internet co...   \n",
       "3   3     7     8  Why am I mentally very lonely? How can I solve...   \n",
       "4   4     9    10  Which one dissolve in water quikly sugar, salt...   \n",
       "\n",
       "                                           question2  is_duplicate  \n",
       "0  What is the step by step guide to invest in sh...             0  \n",
       "1  What would happen if the Indian government sto...             0  \n",
       "2  How can Internet speed be increased by hacking...             0  \n",
       "3  Find the remainder when [math]23^{24}[/math] i...             0  \n",
       "4            Which fish would survive in salt water?             0  "
      ]
     },
     "execution_count": 1,
     "metadata": {},
     "output_type": "execute_result"
    }
   ],
   "source": [
    "import pandas as pd\n",
    "\n",
    "df = pd.read_csv(\"train.csv\")\n",
    "df.head()"
   ]
  },
  {
   "cell_type": "code",
   "execution_count": 2,
   "id": "319f93b9",
   "metadata": {},
   "outputs": [
    {
     "name": "stdout",
     "output_type": "stream",
     "text": [
      "(404290, 6)\n",
      "<class 'pandas.core.frame.DataFrame'>\n",
      "RangeIndex: 404290 entries, 0 to 404289\n",
      "Data columns (total 6 columns):\n",
      " #   Column        Non-Null Count   Dtype \n",
      "---  ------        --------------   ----- \n",
      " 0   id            404290 non-null  int64 \n",
      " 1   qid1          404290 non-null  int64 \n",
      " 2   qid2          404290 non-null  int64 \n",
      " 3   question1     404289 non-null  object\n",
      " 4   question2     404288 non-null  object\n",
      " 5   is_duplicate  404290 non-null  int64 \n",
      "dtypes: int64(4), object(2)\n",
      "memory usage: 18.5+ MB\n",
      "None\n"
     ]
    }
   ],
   "source": [
    "print(df.shape)\n",
    "print(df.info())"
   ]
  },
  {
   "cell_type": "code",
   "execution_count": 3,
   "id": "3940b4a9",
   "metadata": {},
   "outputs": [
    {
     "data": {
      "text/plain": [
       "is_duplicate\n",
       "0    0.630802\n",
       "1    0.369198\n",
       "Name: proportion, dtype: float64"
      ]
     },
     "execution_count": 3,
     "metadata": {},
     "output_type": "execute_result"
    }
   ],
   "source": [
    "df[\"is_duplicate\"].value_counts(normalize=True)"
   ]
  },
  {
   "cell_type": "code",
   "execution_count": 4,
   "id": "4a687295",
   "metadata": {},
   "outputs": [
    {
     "data": {
      "text/html": [
       "<div>\n",
       "<style scoped>\n",
       "    .dataframe tbody tr th:only-of-type {\n",
       "        vertical-align: middle;\n",
       "    }\n",
       "\n",
       "    .dataframe tbody tr th {\n",
       "        vertical-align: top;\n",
       "    }\n",
       "\n",
       "    .dataframe thead th {\n",
       "        text-align: right;\n",
       "    }\n",
       "</style>\n",
       "<table border=\"1\" class=\"dataframe\">\n",
       "  <thead>\n",
       "    <tr style=\"text-align: right;\">\n",
       "      <th></th>\n",
       "      <th>q1_len</th>\n",
       "      <th>q2_len</th>\n",
       "    </tr>\n",
       "  </thead>\n",
       "  <tbody>\n",
       "    <tr>\n",
       "      <th>count</th>\n",
       "      <td>404290.000000</td>\n",
       "      <td>404290.000000</td>\n",
       "    </tr>\n",
       "    <tr>\n",
       "      <th>mean</th>\n",
       "      <td>10.942210</td>\n",
       "      <td>11.181991</td>\n",
       "    </tr>\n",
       "    <tr>\n",
       "      <th>std</th>\n",
       "      <td>5.428824</td>\n",
       "      <td>6.305246</td>\n",
       "    </tr>\n",
       "    <tr>\n",
       "      <th>min</th>\n",
       "      <td>1.000000</td>\n",
       "      <td>1.000000</td>\n",
       "    </tr>\n",
       "    <tr>\n",
       "      <th>25%</th>\n",
       "      <td>7.000000</td>\n",
       "      <td>7.000000</td>\n",
       "    </tr>\n",
       "    <tr>\n",
       "      <th>50%</th>\n",
       "      <td>10.000000</td>\n",
       "      <td>10.000000</td>\n",
       "    </tr>\n",
       "    <tr>\n",
       "      <th>75%</th>\n",
       "      <td>13.000000</td>\n",
       "      <td>13.000000</td>\n",
       "    </tr>\n",
       "    <tr>\n",
       "      <th>max</th>\n",
       "      <td>125.000000</td>\n",
       "      <td>237.000000</td>\n",
       "    </tr>\n",
       "  </tbody>\n",
       "</table>\n",
       "</div>"
      ],
      "text/plain": [
       "              q1_len         q2_len\n",
       "count  404290.000000  404290.000000\n",
       "mean       10.942210      11.181991\n",
       "std         5.428824       6.305246\n",
       "min         1.000000       1.000000\n",
       "25%         7.000000       7.000000\n",
       "50%        10.000000      10.000000\n",
       "75%        13.000000      13.000000\n",
       "max       125.000000     237.000000"
      ]
     },
     "execution_count": 4,
     "metadata": {},
     "output_type": "execute_result"
    }
   ],
   "source": [
    "df[\"q1_len\"] = df[\"question1\"].apply(lambda x : len(str(x).split()))\n",
    "df[\"q2_len\"] = df[\"question2\"].apply(lambda x : len(str(x).split()))\n",
    "\n",
    "df[[\"q1_len\",\"q2_len\"]].describe()"
   ]
  },
  {
   "cell_type": "code",
   "execution_count": 5,
   "id": "edf844f4",
   "metadata": {},
   "outputs": [
    {
     "data": {
      "text/html": [
       "<div>\n",
       "<style scoped>\n",
       "    .dataframe tbody tr th:only-of-type {\n",
       "        vertical-align: middle;\n",
       "    }\n",
       "\n",
       "    .dataframe tbody tr th {\n",
       "        vertical-align: top;\n",
       "    }\n",
       "\n",
       "    .dataframe thead th {\n",
       "        text-align: right;\n",
       "    }\n",
       "</style>\n",
       "<table border=\"1\" class=\"dataframe\">\n",
       "  <thead>\n",
       "    <tr style=\"text-align: right;\">\n",
       "      <th></th>\n",
       "      <th>len_diff</th>\n",
       "    </tr>\n",
       "    <tr>\n",
       "      <th>is_duplicate</th>\n",
       "      <th></th>\n",
       "    </tr>\n",
       "  </thead>\n",
       "  <tbody>\n",
       "    <tr>\n",
       "      <th>0</th>\n",
       "      <td>4.439436</td>\n",
       "    </tr>\n",
       "    <tr>\n",
       "      <th>1</th>\n",
       "      <td>2.420982</td>\n",
       "    </tr>\n",
       "  </tbody>\n",
       "</table>\n",
       "</div>"
      ],
      "text/plain": [
       "              len_diff\n",
       "is_duplicate          \n",
       "0             4.439436\n",
       "1             2.420982"
      ]
     },
     "execution_count": 5,
     "metadata": {},
     "output_type": "execute_result"
    }
   ],
   "source": [
    "df[\"len_diff\"] = abs(df[\"q1_len\"] - df[\"q2_len\"])\n",
    "df[[\"len_diff\",\"is_duplicate\"]].groupby(\"is_duplicate\").mean()"
   ]
  },
  {
   "cell_type": "code",
   "execution_count": 6,
   "id": "93c1f1bb",
   "metadata": {},
   "outputs": [],
   "source": [
    "df[\"q1_word\"] = df[\"question1\"].apply(lambda x : str(x).split())\n",
    "df[\"q2_word\"] = df[\"question2\"].apply(lambda x : str(x).split())\n",
    "df[\"common_word\"] = df.apply(lambda x: len(set(x[\"q1_word\"]) & set(x[\"q2_word\"])) , axis=1)"
   ]
  },
  {
   "cell_type": "code",
   "execution_count": 7,
   "id": "19238e48",
   "metadata": {},
   "outputs": [
    {
     "data": {
      "text/html": [
       "<div>\n",
       "<style scoped>\n",
       "    .dataframe tbody tr th:only-of-type {\n",
       "        vertical-align: middle;\n",
       "    }\n",
       "\n",
       "    .dataframe tbody tr th {\n",
       "        vertical-align: top;\n",
       "    }\n",
       "\n",
       "    .dataframe thead th {\n",
       "        text-align: right;\n",
       "    }\n",
       "</style>\n",
       "<table border=\"1\" class=\"dataframe\">\n",
       "  <thead>\n",
       "    <tr style=\"text-align: right;\">\n",
       "      <th></th>\n",
       "      <th>common_word</th>\n",
       "    </tr>\n",
       "    <tr>\n",
       "      <th>is_duplicate</th>\n",
       "      <th></th>\n",
       "    </tr>\n",
       "  </thead>\n",
       "  <tbody>\n",
       "    <tr>\n",
       "      <th>0</th>\n",
       "      <td>3.761641</td>\n",
       "    </tr>\n",
       "    <tr>\n",
       "      <th>1</th>\n",
       "      <td>5.223572</td>\n",
       "    </tr>\n",
       "  </tbody>\n",
       "</table>\n",
       "</div>"
      ],
      "text/plain": [
       "              common_word\n",
       "is_duplicate             \n",
       "0                3.761641\n",
       "1                5.223572"
      ]
     },
     "execution_count": 7,
     "metadata": {},
     "output_type": "execute_result"
    }
   ],
   "source": [
    "df[\"common_word\"].describe()\n",
    "df[[\"common_word\" , \"is_duplicate\"]].groupby(\"is_duplicate\").mean()"
   ]
  },
  {
   "cell_type": "markdown",
   "id": "b9b6436b",
   "metadata": {},
   "source": [
    "DATA PREPROSSING\n"
   ]
  },
  {
   "cell_type": "code",
   "execution_count": 8,
   "id": "af8d075a",
   "metadata": {},
   "outputs": [
    {
     "data": {
      "text/plain": [
       "id              0\n",
       "qid1            0\n",
       "qid2            0\n",
       "question1       0\n",
       "question2       0\n",
       "is_duplicate    0\n",
       "q1_len          0\n",
       "q2_len          0\n",
       "len_diff        0\n",
       "q1_word         0\n",
       "q2_word         0\n",
       "common_word     0\n",
       "dtype: int64"
      ]
     },
     "execution_count": 8,
     "metadata": {},
     "output_type": "execute_result"
    }
   ],
   "source": [
    "df = df.fillna(\"\")\n",
    "df.isnull().sum()"
   ]
  },
  {
   "cell_type": "code",
   "execution_count": null,
   "id": "ccd6b69f",
   "metadata": {},
   "outputs": [],
   "source": [
    "from bs4 import BeautifulSoup\n",
    "\n",
    "def html_remove(text):\n",
    "    return BeautifulSoup(text , \"html.parser\").get_text()\n",
    "df[\"question1\"] = df[\"question1\"].apply(html_remove)\n",
    "df[\"question2\"] = df[\"question2\"].apply(html_remove)"
   ]
  },
  {
   "cell_type": "code",
   "execution_count": null,
   "id": "42822790",
   "metadata": {},
   "outputs": [],
   "source": [
    "import contractions\n",
    "\n",
    "def expand(text):\n",
    "    return contractions.fix(text)\n",
    "\n",
    "df[\"question1\"] = df[\"question1\"].apply(expand)\n",
    "df[\"question2\"] = df[\"question2\"].apply(expand)"
   ]
  },
  {
   "cell_type": "code",
   "execution_count": null,
   "id": "0a87089c",
   "metadata": {},
   "outputs": [],
   "source": [
    "df[\"question1\"] = df[\"question1\"].str.lower()\n",
    "df[\"question2\"] = df[\"question2\"].str.lower()"
   ]
  },
  {
   "cell_type": "code",
   "execution_count": null,
   "id": "31f24354",
   "metadata": {},
   "outputs": [],
   "source": [
    "df[\"question1\"] = df[\"question1\"].str.replace(r\"[^a-zA-Z0-9\\s]\" ,\"\", regex=True).str.replace(r\"\\s+\",\" \", regex = True ).str.strip()\n",
    "df[\"question2\"] = df[\"question2\"].str.replace(r\"[^a-zA-Z0-9\\s]\" , \" \", regex=True).str.replace(r\"\\s+\",\" \", regex = True ).str.strip()"
   ]
  },
  {
   "cell_type": "code",
   "execution_count": null,
   "id": "51aece8a",
   "metadata": {},
   "outputs": [
    {
     "name": "stderr",
     "output_type": "stream",
     "text": [
      "c:\\Users\\Asus\\Desktop\\VS CODES\\QUESTION PAIR SIMILARITY\\.venv\\Lib\\site-packages\\cupy\\_environment.py:215: UserWarning: CUDA path could not be detected. Set CUDA_PATH environment variable if CuPy fails to load.\n",
      "  warnings.warn(\n"
     ]
    }
   ],
   "source": [
    "import spacy\n",
    "nlp = spacy.load(\"en_core_web_sm\", disable=[\"ner\", \"parser\"])  # faster\n",
    "texts1 = df[\"question1\"].astype(str).tolist()\n",
    "texts2 = df[\"question2\"].astype(str).tolist()\n",
    "\n",
    "def stop_and_lemma_pipe(docs):\n",
    "    for doc in docs:\n",
    "        yield \" \".join([token.lemma_ for token in doc if not token.is_stop and not token.is_punct])\n",
    "\n",
    "df[\"question1\"] = list(stop_and_lemma_pipe(nlp.pipe(texts1, batch_size=500)))\n",
    "df[\"question2\"] = list(stop_and_lemma_pipe(nlp.pipe(texts2, batch_size=500)))\n"
   ]
  },
  {
   "cell_type": "code",
   "execution_count": null,
   "id": "97cadc74",
   "metadata": {},
   "outputs": [],
   "source": [
    "df[\"q1_len\"] = df[\"question1\"].apply(lambda x : len(str(x).split()))\n",
    "df[\"q2_len\"] = df[\"question2\"].apply(lambda x : len(str(x).split()))\n",
    "\n",
    "df[\"q1_word\"] = df[\"question1\"].apply(lambda x : str(x).split())\n",
    "df[\"q2_word\"] = df[\"question2\"].apply(lambda x : str(x).split())\n",
    "\n",
    "df[\"total_word\"] = df.apply(lambda x: len(set(x[\"q1_word\"]) | set(x[\"q2_word\"])) , axis=1)\n",
    "\n",
    "df[\"common_word\"] = df.apply(lambda x: len(set(x[\"q1_word\"]) & set(x[\"q2_word\"]))/x[\"total_word\"] if x[\"total_word\"] != 0 else 0,  axis=1)\n",
    "\n",
    "df[\"len_diff\"] = df.apply(lambda x: abs(x[\"q1_len\"] - x[\"q2_len\"]) / x[\"total_word\"] if x[\"total_word\"] != 0 else 0, axis=1)"
   ]
  },
  {
   "cell_type": "code",
   "execution_count": null,
   "id": "b914434f",
   "metadata": {},
   "outputs": [],
   "source": [
    "def jaccard(row):\n",
    "    q1 = set(row['question1'].split())\n",
    "    q2 = set(row['question2'].split())\n",
    "    return len(q1 & q2) / len(q1 | q2) if (len(q1 | q2)) > 0 else 0\n",
    "\n",
    "df['jaccard'] = df.apply(jaccard, axis=1)"
   ]
  },
  {
   "cell_type": "code",
   "execution_count": null,
   "id": "e48e1112",
   "metadata": {},
   "outputs": [],
   "source": [
    "from sklearn.feature_extraction.text import TfidfVectorizer\n",
    "from sklearn.metrics.pairwise import cosine_similarity\n",
    "\n",
    "TfidV = TfidfVectorizer(max_features = 5000)\n",
    "\n",
    "TfidV_metrix = TfidV.fit_transform(pd.concat([df[\"question1\"] , df[\"question2\"]]))\n",
    "\n",
    "q1_TfidV = TfidV_metrix[:len(df)]\n",
    "q2_TfidV = TfidV_metrix[len(df):]\n",
    "\n",
    "df[\"cosine_sim\"] = [cosine_similarity(q1 ,q2)[0][0] for q1 ,q2 in zip(q1_TfidV , q2_TfidV)]"
   ]
  },
  {
   "cell_type": "code",
   "execution_count": null,
   "id": "815f0024",
   "metadata": {},
   "outputs": [
    {
     "name": "stderr",
     "output_type": "stream",
     "text": [
      "c:\\Users\\Asus\\Desktop\\VS CODES\\QUESTION PAIR SIMILARITY\\.venv\\Lib\\site-packages\\fuzzywuzzy\\fuzz.py:11: UserWarning: Using slow pure-python SequenceMatcher. Install python-Levenshtein to remove this warning\n",
      "  warnings.warn('Using slow pure-python SequenceMatcher. Install python-Levenshtein to remove this warning')\n"
     ]
    }
   ],
   "source": [
    "from fuzzywuzzy import fuzz\n",
    "\n",
    "df['fuzz_ratio'] = df.apply(lambda x: fuzz.ratio(x['question1'], x['question2']), axis=1)\n",
    "df['fuzz_partial_ratio'] = df.apply(lambda x: fuzz.partial_ratio(x['question1'], x['question2']), axis=1)\n",
    "df['fuzz_token_sort_ratio'] = df.apply(lambda x: fuzz.token_sort_ratio(x['question1'], x['question2']), axis=1)\n"
   ]
  },
  {
   "cell_type": "code",
   "execution_count": null,
   "id": "fa63a342",
   "metadata": {},
   "outputs": [
    {
     "name": "stderr",
     "output_type": "stream",
     "text": [
      "c:\\Users\\Asus\\Desktop\\VS CODES\\QUESTION PAIR SIMILARITY\\.venv\\Lib\\site-packages\\tqdm\\auto.py:21: TqdmWarning: IProgress not found. Please update jupyter and ipywidgets. See https://ipywidgets.readthedocs.io/en/stable/user_install.html\n",
      "  from .autonotebook import tqdm as notebook_tqdm\n",
      "Batches: 100%|██████████| 6318/6318 [01:35<00:00, 65.95it/s]\n",
      "Batches: 100%|██████████| 6318/6318 [01:33<00:00, 67.34it/s]\n"
     ]
    }
   ],
   "source": [
    "import torch\n",
    "from sentence_transformers import SentenceTransformer\n",
    "\n",
    "model = SentenceTransformer('all-MiniLM-L6-v2')\n",
    "\n",
    "q1_list = df['question1'].astype(str).tolist()\n",
    "q2_list = df['question2'].astype(str).tolist()\n",
    "\n",
    "# Encode in batches, on GPU if available\n",
    "device = \"cuda\" if torch.cuda.is_available() else \"cpu\"\n",
    "\n",
    "q1_embeddings = model.encode(q1_list, convert_to_tensor=True, batch_size=64, device=device, show_progress_bar=True)\n",
    "q2_embeddings = model.encode(q2_list, convert_to_tensor=True, batch_size=64, device=device, show_progress_bar=True)\n",
    "\n",
    "# Compute diagonal cosine similarity batch-wise\n",
    "batch_size = 4096  # adjust depending on GPU memory\n",
    "cos_sim_list = []\n",
    "\n",
    "for start_idx in range(0, len(q1_embeddings), batch_size):\n",
    "    end_idx = min(start_idx + batch_size, len(q1_embeddings))\n",
    "    q1_batch = q1_embeddings[start_idx:end_idx]\n",
    "    q2_batch = q2_embeddings[start_idx:end_idx]\n",
    "    \n",
    "    # element-wise cosine similarity\n",
    "    sim = torch.sum(q1_batch * q2_batch, dim=1) / (\n",
    "        torch.norm(q1_batch, dim=1) * torch.norm(q2_batch, dim=1)\n",
    "    )\n",
    "    cos_sim_list.append(sim)\n",
    "\n",
    "cos_sim = torch.cat(cos_sim_list)\n",
    "\n",
    "# Move to CPU and save to dataframe\n",
    "df['cosine_sim_BERT'] = cos_sim.cpu().numpy()\n"
   ]
  },
  {
   "cell_type": "code",
   "execution_count": null,
   "id": "768c4629",
   "metadata": {},
   "outputs": [
    {
     "data": {
      "text/html": [
       "<div>\n",
       "<style scoped>\n",
       "    .dataframe tbody tr th:only-of-type {\n",
       "        vertical-align: middle;\n",
       "    }\n",
       "\n",
       "    .dataframe tbody tr th {\n",
       "        vertical-align: top;\n",
       "    }\n",
       "\n",
       "    .dataframe thead th {\n",
       "        text-align: right;\n",
       "    }\n",
       "</style>\n",
       "<table border=\"1\" class=\"dataframe\">\n",
       "  <thead>\n",
       "    <tr style=\"text-align: right;\">\n",
       "      <th></th>\n",
       "      <th>id</th>\n",
       "      <th>qid1</th>\n",
       "      <th>qid2</th>\n",
       "      <th>question1</th>\n",
       "      <th>question2</th>\n",
       "      <th>is_duplicate</th>\n",
       "      <th>q1_len</th>\n",
       "      <th>q2_len</th>\n",
       "      <th>len_diff</th>\n",
       "      <th>q1_word</th>\n",
       "      <th>q2_word</th>\n",
       "      <th>common_word</th>\n",
       "      <th>total_word</th>\n",
       "      <th>jaccard</th>\n",
       "      <th>cosine_sim</th>\n",
       "      <th>fuzz_ratio</th>\n",
       "      <th>fuzz_partial_ratio</th>\n",
       "      <th>fuzz_token_sort_ratio</th>\n",
       "      <th>cosine_sim_BERT</th>\n",
       "    </tr>\n",
       "  </thead>\n",
       "  <tbody>\n",
       "    <tr>\n",
       "      <th>0</th>\n",
       "      <td>0</td>\n",
       "      <td>1</td>\n",
       "      <td>2</td>\n",
       "      <td>step step guide invest share market india</td>\n",
       "      <td>step step guide invest share market</td>\n",
       "      <td>0</td>\n",
       "      <td>7</td>\n",
       "      <td>6</td>\n",
       "      <td>0.166667</td>\n",
       "      <td>[step, step, guide, invest, share, market, india]</td>\n",
       "      <td>[step, step, guide, invest, share, market]</td>\n",
       "      <td>0.833333</td>\n",
       "      <td>6</td>\n",
       "      <td>0.833333</td>\n",
       "      <td>0.978943</td>\n",
       "      <td>92</td>\n",
       "      <td>100</td>\n",
       "      <td>92</td>\n",
       "      <td>0.915797</td>\n",
       "    </tr>\n",
       "  </tbody>\n",
       "</table>\n",
       "</div>"
      ],
      "text/plain": [
       "   id  qid1  qid2                                  question1  \\\n",
       "0   0     1     2  step step guide invest share market india   \n",
       "\n",
       "                             question2  is_duplicate  q1_len  q2_len  \\\n",
       "0  step step guide invest share market             0       7       6   \n",
       "\n",
       "   len_diff                                            q1_word  \\\n",
       "0  0.166667  [step, step, guide, invest, share, market, india]   \n",
       "\n",
       "                                      q2_word  common_word  total_word  \\\n",
       "0  [step, step, guide, invest, share, market]     0.833333           6   \n",
       "\n",
       "    jaccard  cosine_sim  fuzz_ratio  fuzz_partial_ratio  \\\n",
       "0  0.833333    0.978943          92                 100   \n",
       "\n",
       "   fuzz_token_sort_ratio  cosine_sim_BERT  \n",
       "0                     92         0.915797  "
      ]
     },
     "execution_count": 19,
     "metadata": {},
     "output_type": "execute_result"
    }
   ],
   "source": [
    "df.head(1)"
   ]
  },
  {
   "cell_type": "markdown",
   "id": "9c2bc7d2",
   "metadata": {},
   "source": [
    "HYPERPARAMETER TUNING\n"
   ]
  },
  {
   "cell_type": "code",
   "execution_count": null,
   "id": "1fa88d5b",
   "metadata": {},
   "outputs": [],
   "source": [
    "feature_col = ['q1_len', 'q2_len', 'len_diff',  'common_word', 'jaccard', 'cosine_sim', 'fuzz_ratio','fuzz_partial_ratio', 'fuzz_token_sort_ratio', 'cosine_sim_BERT']\n",
    "X = df[feature_col]\n",
    "y = df[\"is_duplicate\"]"
   ]
  },
  {
   "cell_type": "code",
   "execution_count": null,
   "id": "ee2120e6",
   "metadata": {},
   "outputs": [],
   "source": [
    "from sklearn.model_selection import train_test_split\n",
    "# x_tune,x_test,y_tune,y_test = train_test_split(X, y, test_size=0.2, random_state=42, stratify=y)"
   ]
  },
  {
   "cell_type": "code",
   "execution_count": null,
   "id": "fd7146cc",
   "metadata": {},
   "outputs": [],
   "source": [
    "# #logistic regression\n",
    "from sklearn.linear_model import LogisticRegression\n",
    "from sklearn.model_selection import GridSearchCV\n",
    "\n",
    "# param_grid_lr = {\n",
    "#     \"C\" : [0.01 , 0.1 , 1 , 10],\n",
    "#     \"penalty\" : [\"l2\"],\n",
    "#     \"solver\" : [\"lbfgs\" , \"saga\"]\n",
    "# }\n",
    "\n",
    "# lr = LogisticRegression(max_iter=1000)\n",
    "# Grid_lr = GridSearchCV(lr , param_grid_lr , verbose= 2 , cv=3 , scoring=\"f1\" , n_jobs= -1)\n",
    "# Grid_lr.fit(x_tune,y_tune)"
   ]
  },
  {
   "cell_type": "code",
   "execution_count": null,
   "id": "572338a7",
   "metadata": {},
   "outputs": [],
   "source": [
    "from sklearn.ensemble import RandomForestClassifier\n",
    "from scipy.stats import randint\n",
    "from sklearn.model_selection import RandomizedSearchCV\n",
    "\n",
    "# param_dist_rf = {\n",
    "#     \"n_estimators\" : randint(100 , 500),\n",
    "#     \"max_depth\" : randint(5,20),\n",
    "#     \"min_samples_split\" : randint(2,10),\n",
    "#     \"min_samples_leaf\" : randint(1,5)\n",
    "# }\n",
    "\n",
    "# rf = RandomForestClassifier(random_state=42)\n",
    "# rand_rf = RandomizedSearchCV(rf , param_dist_rf , n_iter=20 , cv=3 , scoring=\"f1\" , n_jobs= -1 , verbose= 2)\n",
    "# rand_rf.fit(x_tune,y_tune)"
   ]
  },
  {
   "cell_type": "code",
   "execution_count": null,
   "id": "1ce18ca8",
   "metadata": {},
   "outputs": [],
   "source": [
    "import xgboost as xgb\n",
    "from sklearn.model_selection import GridSearchCV\n",
    "\n",
    "# param_grid_xgb = {\n",
    "#     \"C\" : [100 , 200 , 300],\n",
    "#     \"max_depth\" : [3 , 5 ,7],\n",
    "#     \"learning_rate\" : [0.01 , 0.1 , 0.2],\n",
    "#     \"subsamples\" : [0.7 , 0.8 , 1.0]\n",
    "# }\n",
    "\n",
    "# xgb_m = xgb.XGBClassifier(use_label_encoder = False , eval_metric = \"logloss\")\n",
    "# grid_xgb = GridSearchCV(xgb_m , param_grid_xgb , cv= 3 , verbose= 2, n_jobs= - 1)\n",
    "# grid_xgb.fit(x_tune,y_tune)\n"
   ]
  },
  {
   "cell_type": "code",
   "execution_count": null,
   "id": "44e8a64a",
   "metadata": {},
   "outputs": [],
   "source": [
    "from sklearn.svm import SVC\n",
    "\n",
    "# param_grid_svm = {\n",
    "#     'C': [0.1, 1, 10],\n",
    "#     'kernel': ['linear', 'rbf'],\n",
    "#     'gamma': ['scale', 'auto']\n",
    "# }\n",
    "# svm = SVC(probability=True)\n",
    "# grid_svm = GridSearchCV(svm, param_grid_svm, cv=3, scoring='f1', n_jobs=-1, verbose=2)\n",
    "# grid_svm.fit(x_tune, y_tune)\n"
   ]
  },
  {
   "cell_type": "code",
   "execution_count": null,
   "id": "1757c189",
   "metadata": {},
   "outputs": [],
   "source": [
    "from sklearn.neural_network import MLPClassifier\n",
    "\n",
    "# param_grid_mlp = {\n",
    "#     'hidden_layer_sizes': [(64,32), (128,64), (128,64,32)],\n",
    "#     'activation': ['relu', 'tanh'],\n",
    "#     'solver': ['adam', 'sgd'],\n",
    "#     'alpha': [0.0001, 0.001],\n",
    "#     'learning_rate': ['constant', 'adaptive']\n",
    "# }\n",
    "\n",
    "# mlp = MLPClassifier(max_iter=500, random_state=42)\n",
    "# grid_mlp = GridSearchCV(mlp, param_grid_mlp, cv=3, scoring='f1', n_jobs=-1, verbose=2)\n",
    "# grid_mlp.fit(x_tune, y_tune)\n"
   ]
  },
  {
   "cell_type": "code",
   "execution_count": null,
   "id": "07f6dfb6",
   "metadata": {},
   "outputs": [],
   "source": [
    "x_train,x_test,y_train,y_test = train_test_split(X, y, test_size=0.2, random_state=42, stratify=y)"
   ]
  },
  {
   "cell_type": "code",
   "execution_count": null,
   "id": "dadb8574",
   "metadata": {},
   "outputs": [],
   "source": [
    "final_lr = LogisticRegression( max_iter=1000)\n",
    "final_lr.fit(x_train, y_train)"
   ]
  },
  {
   "cell_type": "code",
   "execution_count": null,
   "id": "e39c26ff",
   "metadata": {},
   "outputs": [],
   "source": [
    "final_rf = RandomForestClassifier( random_state=42)\n",
    "final_rf.fit(x_train, y_train)"
   ]
  },
  {
   "cell_type": "code",
   "execution_count": null,
   "id": "1eaca618",
   "metadata": {},
   "outputs": [],
   "source": [
    "final_mlp = MLPClassifier( max_iter=500, random_state=42)\n",
    "final_mlp.fit(x_train, y_train)"
   ]
  },
  {
   "cell_type": "code",
   "execution_count": null,
   "id": "15f066e6",
   "metadata": {},
   "outputs": [
    {
     "name": "stderr",
     "output_type": "stream",
     "text": [
      "c:\\Users\\Asus\\Desktop\\VS CODES\\QUESTION PAIR SIMILARITY\\.venv\\Lib\\site-packages\\xgboost\\training.py:183: UserWarning: [22:42:01] WARNING: C:\\actions-runner\\_work\\xgboost\\xgboost\\src\\learner.cc:738: \n",
      "Parameters: { \"use_label_encoder\" } are not used.\n",
      "\n",
      "  bst.update(dtrain, iteration=i, fobj=obj)\n"
     ]
    }
   ],
   "source": [
    "# final_lr = LogisticRegression( max_iter=1000)\n",
    "# final_lr.fit(x_train, y_train)\n",
    "\n",
    "# final_rf = RandomForestClassifier( random_state=42)\n",
    "# final_rf.fit(x_train, y_train)\n",
    "\n",
    "# final_xgb = xgb.XGBClassifier( use_label_encoder=False, eval_metric='logloss')\n",
    "# final_xgb.fit(x_train, y_train)\n",
    "\n",
    "# final_svm = SVC( probability=True)\n",
    "# final_svm.fit(x_train, y_train)\n",
    "\n",
    "# final_mlp = MLPClassifier( max_iter=500, random_state=42)\n",
    "# final_mlp.fit(x_train, y_train)\n",
    "\n"
   ]
  },
  {
   "cell_type": "code",
   "execution_count": null,
   "id": "d57084a7",
   "metadata": {},
   "outputs": [],
   "source": [
    "from sklearn.metrics import classification_report\n",
    "models = {\n",
    "    \"Logistic Regression\": final_lr,\n",
    "    \"Random Forest\": final_rf,\n",
    "    \"MLP\": final_mlp\n",
    "}\n",
    "\n",
    "# Generate reports\n",
    "for name, model in models.items():\n",
    "    y_pred = model.predict(x_test)\n",
    "    print(f\"\\n--- {name} ---\")\n",
    "    print(classification_report(y_test, y_pred))"
   ]
  },
  {
   "cell_type": "code",
   "execution_count": null,
   "id": "f2fefbac",
   "metadata": {},
   "outputs": [],
   "source": [
    "from sklearn.ensemble import StackingClassifier\n",
    "from sklearn.linear_model import LogisticRegression\n",
    "\n",
    "# Define base learners\n",
    "estimators = [\n",
    "    ('lr', final_lr),\n",
    "    ('rf', final_rf),\n",
    "    ('xgb', final_mlp)\n",
    "]\n",
    "\n",
    "# Meta learner\n",
    "stack_model = StackingClassifier(\n",
    "    estimators=estimators,\n",
    "    final_estimator=LogisticRegression(max_iter=1000),\n",
    "    cv=5,              # 5-fold cross-validation for stacking\n",
    "    n_jobs=-1,\n",
    "    passthrough=False  # if True, meta-learner also gets original features\n",
    ")\n",
    "\n",
    "# Train on full dataset\n",
    "stack_model.fit(x_test ,y_test)"
   ]
  },
  {
   "cell_type": "code",
   "execution_count": null,
   "id": "26581255",
   "metadata": {},
   "outputs": [],
   "source": [
    "import joblib\n",
    "\n",
    "joblib.dump(stack_model, \"stacked_final_model.pkl\")"
   ]
  }
 ],
 "metadata": {
  "kernelspec": {
   "display_name": ".venv",
   "language": "python",
   "name": "python3"
  },
  "language_info": {
   "codemirror_mode": {
    "name": "ipython",
    "version": 3
   },
   "file_extension": ".py",
   "mimetype": "text/x-python",
   "name": "python",
   "nbconvert_exporter": "python",
   "pygments_lexer": "ipython3",
   "version": "3.11.9"
  }
 },
 "nbformat": 4,
 "nbformat_minor": 5
}
